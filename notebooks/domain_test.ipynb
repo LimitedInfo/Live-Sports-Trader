{
 "cells": [
  {
   "cell_type": "code",
   "execution_count": 1,
   "metadata": {},
   "outputs": [],
   "source": [
    "%load_ext autoreload\n",
    "%autoreload 2\n",
    "\n",
    "import os\n",
    "import sys\n",
    "sys.path.append(os.path.abspath(r\"C:\\Users\\Site Oracle\\Live-Sports-Trader\\src\"))\n",
    "import domain\n",
    "import repository \n",
    "import pandas as pd\n",
    "from dotenv import load_dotenv\n",
    "from py_clob_client.constants import POLYGON\n",
    "from py_clob_client.client import ClobClient\n",
    "from py_clob_client.clob_types import ApiCreds\n",
    "import time\n",
    "\n",
    "# Add the directory containing polymarket_functions.py to the system path\n",
    "sys.path.append(os.path.abspath(r\"C:\\Users\\Site Oracle\\polymarket_sniper\\Production\"))\n",
    "sys.path.append(os.path.abspath(r\"C:\\Users\\Site Oracle\\Live-Sports-Trader\\src\"))\n",
    "\n",
    "# Now you can import the module\n",
    "import polymarket_functions\n",
    "import repository\n",
    "from domain import Odds, Game, Team\n",
    "import service\n",
    "\n"
   ]
  },
  {
   "cell_type": "code",
   "execution_count": 2,
   "metadata": {},
   "outputs": [],
   "source": [
    "client = polymarket_functions.authenticate()"
   ]
  },
  {
   "cell_type": "code",
   "execution_count": null,
   "metadata": {},
   "outputs": [],
   "source": [
    "res = polymarket_functions.get_market_positions(user_address=\"0x2f8b3EBBfbF52fA379c8f69e4427c7491771754f\")\n",
    "print(res)"
   ]
  },
  {
   "cell_type": "code",
   "execution_count": 4,
   "metadata": {},
   "outputs": [],
   "source": [
    "# will need to run this once per day to update the markets.csv file\n",
    "# polymarket_functions.update_markets(client)\n"
   ]
  },
  {
   "cell_type": "code",
   "execution_count": 5,
   "metadata": {},
   "outputs": [],
   "source": [
    "res = repository.get_polymarket_team_odds_today(\"MLB game\")"
   ]
  },
  {
   "cell_type": "code",
   "execution_count": null,
   "metadata": {},
   "outputs": [],
   "source": [
    "res.iloc[0]['tokens']"
   ]
  },
  {
   "cell_type": "code",
   "execution_count": 7,
   "metadata": {},
   "outputs": [],
   "source": [
    "\n",
    "games = []\n",
    "import json \n",
    "\n",
    "for _, row in res.iterrows():\n",
    "    game_name = row['question']\n",
    "    game = Game(game_name)\n",
    "\n",
    "    # Parse team names from the question (assumes format \"Team1 vs. Team2\")\n",
    "    team_names = [name.strip() for name in game_name.split(' vs. ')]\n",
    "\n",
    "    # Extract tokens data - handle both string and list formats\n",
    "    tokens_data = row['tokens']\n",
    "    if isinstance(tokens_data, str):\n",
    "        # More robust parsing for Python-like string representation\n",
    "        try:\n",
    "            # Replace Python booleans and None with JSON equivalents\n",
    "            json_str = (tokens_data\n",
    "                        .replace(\"'\", '\"')\n",
    "                        .replace('False', 'false')\n",
    "                        .replace('True', 'true')\n",
    "                        .replace('None', 'null'))\n",
    "            tokens_data = json.loads(json_str)\n",
    "        except json.JSONDecodeError:\n",
    "            # If JSON parsing fails, try using ast.literal_eval as fallback\n",
    "            import ast\n",
    "            tokens_data = ast.literal_eval(tokens_data)\n",
    "\n",
    "    # Create Team objects\n",
    "    for i, token_data in enumerate(tokens_data):\n",
    "        if i < len(team_names):\n",
    "            team_name = team_names[i]\n",
    "            token_id = token_data['token_id']\n",
    "            \n",
    "            team = Team(name=team_name, token_id=token_id)\n",
    "            game.teams.append(team)\n",
    "\n",
    "    games.append(game)"
   ]
  },
  {
   "cell_type": "code",
   "execution_count": null,
   "metadata": {},
   "outputs": [],
   "source": [
    "for game in games:\n",
    "    print(game.name)\n",
    "    for team in game.teams:\n",
    "        print(team.name)\n",
    "        print(team.token_id)\n",
    "        print(team.prediction_market_odds)\n",
    "        print(team.true_odds)"
   ]
  },
  {
   "cell_type": "code",
   "execution_count": null,
   "metadata": {},
   "outputs": [],
   "source": [
    "driver = repository.get_driver_fanduel_live_odds_page_existing_chrome()\n",
    "\n",
    "live_odds = repository.parse_live_odds(driver=driver)\n",
    "print(live_odds)\n",
    "print(len(live_odds))"
   ]
  },
  {
   "cell_type": "code",
   "execution_count": null,
   "metadata": {},
   "outputs": [],
   "source": [
    "driver = repository.get_driver_fanduel_live_odds_page_existing_chrome()\n",
    "\n",
    "live_odds = repository.parse_live_odds(driver=driver)\n",
    "print(live_odds)\n",
    "print(len(live_odds))"
   ]
  },
  {
   "cell_type": "code",
   "execution_count": null,
   "metadata": {},
   "outputs": [],
   "source": [
    "{'Pittsburgh Pirates': '-106', 'Chicago Cubs': '-110', 'Miami Marlins': '-102', 'Washington Nationals': '-116', 'Toronto Blue Jays': '+100', 'Philadelphia Phillies': '-118', 'Los Angeles Angels': '+154', 'Baltimore Orioles': '-184', 'Tampa Bay Rays': '+138', 'New York Mets': '-164', 'Cincinnati Reds': '+110', 'Detroit Tigers': '-130', 'New York Yankees': '+122', 'Boston Red Sox': '-144', 'Colorado Rockies': '+250', 'Atlanta Braves': '-310', 'Chicago White Sox': '+154', 'Texas Rangers': '-184', 'Minnesota Twins': '-102', 'Houston Astros': '-116', 'St. Louis Cardinals': '+126', 'Milwaukee Brewers': '-148', 'Athletics': '+134', 'Kansas City Royals': '-158', 'San Diego Padres': '+116', 'Arizona Diamondbacks': '-134', 'Cleveland Guardians': '+108', 'Seattle Mariners': '-126', 'San Francisco Giants': '+154', 'Los Angeles Dodgers': '-184'}\n",
    "\n",
    "# WILL NEED TO UPDATE THIS MAP WHEN NEW TEAMS ARE ADDED TO FANDUEL\n",
    "map_polymarket_name_to_fanduel_name = {\n",
    "\"Yankees\": \"New York Yankees\",\n",
    "\"Red Sox\": \"Boston Red Sox\",   \n",
    "\"Cardinals\": \"St. Louis Cardinals\",\n",
    "\"Brewers\": \"Milwaukee Brewers\",\n",
    "\"Padres\": \"San Diego Padres\",\n",
    "\"Diamondbacks\": \"Arizona Diamondbacks\",\n",
    "\"Marlins\": \"Miami Marlins\",\n",
    "\"Nationals\": \"Washington Nationals\",\n",
    "\"Guardians\": \"Cleveland Guardians\",\n",
    "\"Mariners\": \"Seattle Mariners\",\n",
    "\"Giants\": \"San Francisco Giants\",\n",
    "\"Dodgers\": \"Los Angeles Dodgers\",\n",
    "\"Blue Jays\": \"Toronto Blue Jays\",\n",
    "\"Phillies\": \"Philadelphia Phillies\",\n",
    "\"Twins\": \"Minnesota Twins\",\n",
    "\"Astros\": \"Houston Astros\",\n",
    "\"Pirates\": \"Pittsburgh Pirates\",\n",
    "\"Cubs\": \"Chicago Cubs\",\n",
    "\"Rays\": \"Tampa Bay Rays\",\n",
    "\"Mets\": \"New York Mets\",\n",
    "\"Rockies\": \"Colorado Rockies\",\n",
    "\"Braves\": \"Atlanta Braves\",\n",
    "\"Athletics\": \"Athletics\",\n",
    "\"Royals\": \"Kansas City Royals\",\n",
    "\"White Sox\": \"Chicago White Sox\",\n",
    "\"Rangers\": \"Texas Rangers\",\n",
    "\"Angels\": \"Los Angeles Angels\",\n",
    "\"Orioles\": \"Baltimore Orioles\",\n",
    "\"Reds\": \"Cincinnati Reds\",\n",
    "\"Tigers\": \"Detroit Tigers\"}\n",
    "\n",
    "map_fanduel_name_to_polymarket_name = {v: k for k, v in map_polymarket_name_to_fanduel_name.items()}\n",
    "\n",
    "print(map_fanduel_name_to_polymarket_name['New York Yankees'])"
   ]
  },
  {
   "cell_type": "code",
   "execution_count": 12,
   "metadata": {},
   "outputs": [],
   "source": [
    "driver = repository.get_driver_fanduel_live_odds_page_existing_chrome()"
   ]
  },
  {
   "cell_type": "code",
   "execution_count": null,
   "metadata": {},
   "outputs": [],
   "source": [
    "live_odds = repository.parse_live_odds(driver=driver)\n",
    "live_odds"
   ]
  },
  {
   "cell_type": "code",
   "execution_count": 14,
   "metadata": {},
   "outputs": [],
   "source": [
    "live_odds = repository.parse_live_odds(driver=driver)\n",
    "\n",
    "# filter games to ones in live odds\n",
    "games = [game for game in games if map_polymarket_name_to_fanduel_name[game.teams[0].name] in live_odds.keys()]"
   ]
  },
  {
   "cell_type": "code",
   "execution_count": null,
   "metadata": {},
   "outputs": [],
   "source": [
    "live_odds"
   ]
  },
  {
   "cell_type": "code",
   "execution_count": 16,
   "metadata": {},
   "outputs": [],
   "source": [
    "def listen_for_odds_change_return_relevant_games(live_odds_past_states, driver):\n",
    "\n",
    "    while repository.parse_live_odds(driver=driver) == live_odds_past_states[-1]:\n",
    "        time.sleep(1)\n",
    "\n",
    "    else:\n",
    "        current_odds = repository.parse_live_odds(driver=driver)\n",
    "        changed_odds = {}\n",
    "        \n",
    "        for team, odds in current_odds.items():\n",
    "            if team not in live_odds_past_states[-1] or live_odds_past_states[-1][team] != odds:\n",
    "                changed_odds[team] = odds\n",
    "                \n",
    "        print(f\"Changed odds: {changed_odds}\")\n",
    "        live_odds_past_states.append(current_odds)\n",
    "\n",
    "    return changed_odds, live_odds_past_states"
   ]
  },
  {
   "cell_type": "code",
   "execution_count": 17,
   "metadata": {},
   "outputs": [],
   "source": [
    "live_odds_past_states = []\n",
    "live_odds_past_states.append(repository.parse_live_odds(driver=driver))"
   ]
  },
  {
   "cell_type": "code",
   "execution_count": null,
   "metadata": {},
   "outputs": [],
   "source": [
    "\n",
    "while 1: \n",
    "    changed_odds, live_odds_past_states = listen_for_odds_change_return_relevant_games(live_odds_past_states, driver)\n",
    "# change this to look for both teams\n",
    "    games_to_trade = [game for game in games if map_polymarket_name_to_fanduel_name[game.teams[0].name] in changed_odds.keys() or map_polymarket_name_to_fanduel_name[game.teams[1].name] in changed_odds.keys()]\n",
    "    print(f\"games: {games_to_trade}\")\n",
    "    for game in games_to_trade:\n",
    "        live_odds = repository.parse_live_odds(driver=driver)\n",
    "\n",
    "        for team in game.teams:\n",
    "            try:    \n",
    "                cancel_res = polymarket_functions.cancel_single_order(client=client, order_id=team.last_order_id)\n",
    "                print(f\"cancel_res: {cancel_res['not_canceled'].values()}\")\n",
    "                if \"matched orders can\\'t be canceled\" in cancel_res['not_canceled'].values():\n",
    "                    print(f\"Order for {team.name} was matched, setting last order filled time\")\n",
    "                    team.last_order_filled_time = time.time()\n",
    "                \n",
    "            except Exception as e:\n",
    "                # {'not_canceled': {'0x944ce26545570852d917104dbccbd2af3c655a7cee5f1721940a0ad2e7aba0de': \"matched orders can't be canceled\"}, 'canceled': []}\n",
    "                print(f\"Error cancelling order for {team.name}: {e}\")\n",
    "\n",
    "            if live_odds[map_polymarket_name_to_fanduel_name[team.name]] is None:\n",
    "                print(f\"No odds for {team.name} breaking out of loop\")\n",
    "                break_condition = True\n",
    "                break\n",
    "            else: \n",
    "                break_condition = False\n",
    "\n",
    "            # team.prediction_market_odds = Odds(probability=float(polymarket_functions.get_current_price(client, team.token_id)[team.token_id]['BUY']))       \n",
    "            team.true_odds = Odds(american_odds=live_odds[map_polymarket_name_to_fanduel_name[team.name]])\n",
    "\n",
    "\n",
    "        if break_condition:\n",
    "            continue\n",
    "\n",
    "        no_vig_dict = game.get_no_vig_odds(odds_type='true_odds')\n",
    "\n",
    "        for team in game.teams:\n",
    "            if team.last_order_filled_time and time.time() - team.last_order_filled_time < 600:\n",
    "                print(f\"Skipping {team.name} because it's been less than 10 minutes since last order was filled\")\n",
    "                continue\n",
    "\n",
    "            if no_vig_dict is None:\n",
    "                print(f\"No no vig dict for {game.name}\")\n",
    "                continue\n",
    "\n",
    "            team.no_vig_true_odds = no_vig_dict['team1_odds'] if team.name.lower() == no_vig_dict['team1_name'].lower() else no_vig_dict['team2_odds']\n",
    "\n",
    "            desired_limit_price = team.get_limit_price_for_desired_expected_value(desired_expected_value=0.23)\n",
    "            print(f\"Creating limit order for {team.name} at {desired_limit_price}\")\n",
    "\n",
    "            usdc_amount_to_purchase = 10 / round(desired_limit_price, 3) \n",
    "            order_res = polymarket_functions.create_limit_order(client=client,\n",
    "                                            side='buy',\n",
    "                                            # minimum 1 minute security threshold, the 60 seconds won't count towards time. \n",
    "                                            seconds_to_last=60 + 22,\n",
    "                                            usdcAmountToPurchase=usdc_amount_to_purchase, \n",
    "                                            token_id=team.token_id, \n",
    "                                            price=round(desired_limit_price, 3))\n",
    "            print(f\"order_res: {order_res}\")\n",
    "            team.last_order_id = order_res['orderID']\n",
    "# {'errorMsg': '', 'orderID': '0x6a6155dc2b1f0546d9ca174ba4f9d46a26aa32af359d6199dea2e81f64589d7b', 'takingAmount': '', 'makingAmount': '', 'status': 'live', 'success': True}\n",
    "            \n",
    "            "
   ]
  },
  {
   "cell_type": "markdown",
   "metadata": {},
   "source": [
    "notes from experiment. \n",
    "\n",
    "-need to set some sort of limit on total \"to win\" amount by team. this is because long shots can be a big investment even with just $10. \n",
    "-need to implement some sort of auto-sell, probably just copy this logic inverse it and put it in another thread. \n",
    "-need to look into the St. louis cardinals as it's showing as just St. for something. \n",
    "-need a way for new games to populate when tthey starrt"
   ]
  }
 ],
 "metadata": {
  "kernelspec": {
   "display_name": "venv",
   "language": "python",
   "name": "python3"
  },
  "language_info": {
   "codemirror_mode": {
    "name": "ipython",
    "version": 3
   },
   "file_extension": ".py",
   "mimetype": "text/x-python",
   "name": "python",
   "nbconvert_exporter": "python",
   "pygments_lexer": "ipython3",
   "version": "3.10.7"
  }
 },
 "nbformat": 4,
 "nbformat_minor": 2
}
