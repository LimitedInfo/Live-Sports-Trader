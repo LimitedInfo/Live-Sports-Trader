{
 "cells": [
  {
   "cell_type": "code",
   "execution_count": 1,
   "metadata": {},
   "outputs": [],
   "source": [
    "import sys\n",
    "import os\n",
    "import pandas as pd\n",
    "import os\n",
    "from dotenv import load_dotenv\n",
    "from py_clob_client.constants import POLYGON\n",
    "from py_clob_client.client import ClobClient\n",
    "from py_clob_client.clob_types import ApiCreds\n",
    "\n",
    "# Add the directory containing polymarket_functions.py to the system path\n",
    "sys.path.append(os.path.abspath(r\"C:\\Users\\Site Oracle\\polymarket_sniper\\Production\"))\n",
    "sys.path.append(os.path.abspath(r\"C:\\Users\\Site Oracle\\Live-Sports-Trader\\src\"))\n",
    "\n",
    "# Now you can import the module\n",
    "import polymarket_functions\n",
    "import repository\n",
    "import service"
   ]
  },
  {
   "cell_type": "code",
   "execution_count": 2,
   "metadata": {},
   "outputs": [],
   "source": [
    "client = polymarket_functions.authenticate()"
   ]
  },
  {
   "cell_type": "code",
   "execution_count": 11,
   "metadata": {},
   "outputs": [],
   "source": [
    "res = repository.get_polymarket_team_odds_today(\"Marlins\")"
   ]
  },
  {
   "cell_type": "code",
   "execution_count": 4,
   "metadata": {},
   "outputs": [
    {
     "data": {
      "text/plain": [
       "{'team': 'Marlins',\n",
       " 'date': 'June 11',\n",
       " 'all_tokens': [{'token_id': '48267065151258629836601031314509219891007393953617086960717049610776571996215',\n",
       "   'outcome': 'Marlins',\n",
       "   'price': 0.425,\n",
       "   'winner': False},\n",
       "  {'token_id': '43514467218402237458835959250190433952215998292317344823351640012659428174695',\n",
       "   'outcome': 'Pirates',\n",
       "   'price': 0.575,\n",
       "   'winner': False}],\n",
       " 'team_token': {'token_id': '48267065151258629836601031314509219891007393953617086960717049610776571996215',\n",
       "  'outcome': 'Marlins',\n",
       "  'price': 0.425,\n",
       "  'winner': False},\n",
       " 'markets_count': 1}"
      ]
     },
     "execution_count": 4,
     "metadata": {},
     "output_type": "execute_result"
    }
   ],
   "source": [
    "res"
   ]
  },
  {
   "cell_type": "code",
   "execution_count": 13,
   "metadata": {},
   "outputs": [
    {
     "ename": "AttributeError",
     "evalue": "'list' object has no attribute 'replace'",
     "output_type": "error",
     "traceback": [
      "\u001b[1;31m---------------------------------------------------------------------------\u001b[0m",
      "\u001b[1;31mAttributeError\u001b[0m                            Traceback (most recent call last)",
      "Cell \u001b[1;32mIn[13], line 1\u001b[0m\n\u001b[1;32m----> 1\u001b[0m res1 \u001b[38;5;241m=\u001b[39m \u001b[43mservice\u001b[49m\u001b[38;5;241;43m.\u001b[39;49m\u001b[43mparse_betting_market_response\u001b[49m\u001b[43m(\u001b[49m\u001b[43mres\u001b[49m\u001b[43m[\u001b[49m\u001b[38;5;124;43m'\u001b[39;49m\u001b[38;5;124;43mall_tokens\u001b[39;49m\u001b[38;5;124;43m'\u001b[39;49m\u001b[43m]\u001b[49m\u001b[43m)\u001b[49m\n",
      "File \u001b[1;32m~\\Live-Sports-Trader\\src\\service.py:19\u001b[0m, in \u001b[0;36mparse_betting_market_response\u001b[1;34m(response_data, game_name)\u001b[0m\n\u001b[0;32m     18\u001b[0m \u001b[38;5;28;01mdef\u001b[39;00m\u001b[38;5;250m \u001b[39m\u001b[38;5;21mparse_betting_market_response\u001b[39m(response_data: \u001b[38;5;28mstr\u001b[39m, game_name: \u001b[38;5;28mstr\u001b[39m \u001b[38;5;241m=\u001b[39m \u001b[38;5;28;01mNone\u001b[39;00m) \u001b[38;5;241m-\u001b[39m\u001b[38;5;241m>\u001b[39m Game:\n\u001b[1;32m---> 19\u001b[0m     json_data \u001b[38;5;241m=\u001b[39m \u001b[43mresponse_data\u001b[49m\u001b[38;5;241;43m.\u001b[39;49m\u001b[43mreplace\u001b[49m(\u001b[38;5;124m\"\u001b[39m\u001b[38;5;124m'\u001b[39m\u001b[38;5;124m\"\u001b[39m, \u001b[38;5;124m'\u001b[39m\u001b[38;5;124m\"\u001b[39m\u001b[38;5;124m'\u001b[39m)\u001b[38;5;241m.\u001b[39mreplace(\u001b[38;5;124m'\u001b[39m\u001b[38;5;124mFalse\u001b[39m\u001b[38;5;124m'\u001b[39m, \u001b[38;5;124m'\u001b[39m\u001b[38;5;124mfalse\u001b[39m\u001b[38;5;124m'\u001b[39m)\u001b[38;5;241m.\u001b[39mreplace(\u001b[38;5;124m'\u001b[39m\u001b[38;5;124mTrue\u001b[39m\u001b[38;5;124m'\u001b[39m, \u001b[38;5;124m'\u001b[39m\u001b[38;5;124mtrue\u001b[39m\u001b[38;5;124m'\u001b[39m)\n\u001b[0;32m     20\u001b[0m     data \u001b[38;5;241m=\u001b[39m json\u001b[38;5;241m.\u001b[39mloads(json_data)\n\u001b[0;32m     22\u001b[0m     teams \u001b[38;5;241m=\u001b[39m []\n",
      "\u001b[1;31mAttributeError\u001b[0m: 'list' object has no attribute 'replace'"
     ]
    }
   ],
   "source": [
    "res1 = service.parse_betting_market_response(res['all_tokens'])"
   ]
  },
  {
   "cell_type": "code",
   "execution_count": 19,
   "metadata": {},
   "outputs": [
    {
     "name": "stdout",
     "output_type": "stream",
     "text": [
      "Game: Marlins vs Pirates\n",
      "\n",
      "Team: Marlins\n",
      "Prediction Market Odds:\n",
      "  +135 - 0.425531914893617\n",
      "True Odds:\n",
      "\n",
      "Team: Pirates\n",
      "Prediction Market Odds:\n",
      "  -135 - 0.574468085106383\n",
      "True Odds:\n"
     ]
    }
   ],
   "source": [
    "print(f\"Game: {res1.name}\")\n",
    "for team in res1.teams:\n",
    "    print(f\"\\nTeam: {team.name}\")\n",
    "    print(\"Prediction Market Odds:\")\n",
    "    for odds in team.prediction_market_odds:\n",
    "        print(f\"  {odds}\")\n",
    "    print(\"True Odds:\")\n",
    "    for odds in team.true_odds:\n",
    "        print(f\"  {odds}\")"
   ]
  }
 ],
 "metadata": {
  "kernelspec": {
   "display_name": "venv",
   "language": "python",
   "name": "python3"
  },
  "language_info": {
   "codemirror_mode": {
    "name": "ipython",
    "version": 3
   },
   "file_extension": ".py",
   "mimetype": "text/x-python",
   "name": "python",
   "nbconvert_exporter": "python",
   "pygments_lexer": "ipython3",
   "version": "3.10.7"
  }
 },
 "nbformat": 4,
 "nbformat_minor": 2
}
