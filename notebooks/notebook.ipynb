{
 "cells": [
  {
   "cell_type": "code",
   "execution_count": null,
   "metadata": {},
   "outputs": [],
   "source": [
    "import undetected_chromedriver as uc\n",
    "import time\n",
    "\n",
    "try:\n",
    "    # Create undetected Chrome driver instance\n",
    "    driver = uc.Chrome()\n",
    "    \n",
    "    # Navigate to the target URL\n",
    "    driver.get(\"https://sportsbook.fanduel.com/live?tab=baseball\")\n",
    "    input()\n",
    "    \n",
    "except Exception as e:\n",
    "    print(f\"An error occurred: {e}\")\n",
    "finally:\n",
    "    if 'driver' in locals():\n",
    "        print(\"Closing the browser.\")\n",
    "        driver.quit()"
   ]
  },
  {
   "cell_type": "code",
   "execution_count": 3,
   "metadata": {},
   "outputs": [],
   "source": [
    "import undetected_chromedriver as uc\n",
    "import time\n",
    "\n",
    "\n",
    "# Create undetected Chrome driver instance\n",
    "driver = uc.Chrome()\n",
    "\n",
    "# Navigate to the target URL\n",
    "driver.get(\"https://sportsbook.fanduel.com/\")"
   ]
  },
  {
   "cell_type": "code",
   "execution_count": 4,
   "metadata": {},
   "outputs": [],
   "source": [
    "from selenium.webdriver.common.by import By\n",
    "from selenium.webdriver.support.ui import WebDriverWait\n",
    "from selenium.webdriver.support import expected_conditions as EC\n",
    "\n",
    "try:\n",
    "    wait = WebDriverWait(driver, 10)\n",
    "    live_now = wait.until(EC.element_to_be_clickable((By.XPATH, \"//span[text()='Live now']\")))\n",
    "    live_now.click()\n",
    "except Exception as e:\n",
    "    print(f\"Error clicking Live now: {e}\")\n"
   ]
  },
  {
   "cell_type": "code",
   "execution_count": 5,
   "metadata": {},
   "outputs": [],
   "source": [
    "try:\n",
    "    wait = WebDriverWait(driver, 10)\n",
    "    baseball = wait.until(EC.element_to_be_clickable((By.XPATH, \"//span[text()='Baseball']\")))\n",
    "    baseball.click()\n",
    "except Exception as e:\n",
    "    print(f\"Error clicking Baseball: {e}\")\n"
   ]
  },
  {
   "cell_type": "code",
   "execution_count": 6,
   "metadata": {},
   "outputs": [],
   "source": [
    "try:\n",
    "    wait = WebDriverWait(driver, 10)\n",
    "    baseball = wait.until(EC.element_to_be_clickable((By.XPATH, \"//span[text()='Tennis']\")))\n",
    "    baseball.click()\n",
    "except Exception as e:\n",
    "    print(f\"Error clicking Baseball: {e}\")\n"
   ]
  },
  {
   "cell_type": "code",
   "execution_count": 15,
   "metadata": {},
   "outputs": [
    {
     "name": "stdout",
     "output_type": "stream",
     "text": [
      "{'Hiroshima Toyo Carp': '-750', 'Chiba Lotte Marines': '+460'}\n"
     ]
    }
   ],
   "source": [
    "from bs4 import BeautifulSoup\n",
    "import re\n",
    "\n",
    "def parse_live_odds(html_file='baseball.html', driver=None):\n",
    "    if driver:\n",
    "        content = driver.page_source\n",
    "    else:\n",
    "        with open(html_file, 'r', encoding='utf-8') as file:\n",
    "            content = file.read()\n",
    "    \n",
    "    soup = BeautifulSoup(content, 'html.parser')\n",
    "    team_odds = {}\n",
    "    \n",
    "    # Find all buttons with aria-label containing \"Odds\"\n",
    "    buttons_with_odds = soup.find_all('div', {'role': 'button', 'aria-label': re.compile(r'.*Odds.*', re.IGNORECASE)})\n",
    "    \n",
    "    for button in buttons_with_odds:\n",
    "        aria_label = button.get('aria-label', '')\n",
    "        \n",
    "        # Extract odds\n",
    "        odds_match = re.search(r'([+-]\\d+)\\s*Odds', aria_label)\n",
    "        if not odds_match:\n",
    "            continue\n",
    "            \n",
    "        odds = odds_match.group(1)\n",
    "        \n",
    "        # Extract team name - look for pattern \"Moneyline, TEAM NAME, odds Odds\"\n",
    "        team_match = re.search(r'Moneyline,\\s*([^,]+),\\s*[+-]\\d+\\s*Odds', aria_label)\n",
    "        if team_match:\n",
    "            team_name = team_match.group(1).strip()\n",
    "            team_odds[team_name] = odds\n",
    "    \n",
    "    return team_odds\n",
    "\n",
    "# Test the function\n",
    "result = parse_live_odds()\n",
    "print(result)\n"
   ]
  },
  {
   "cell_type": "code",
   "execution_count": null,
   "metadata": {},
   "outputs": [],
   "source": [
    "import undetected_chromedriver as uc\n",
    "import time\n",
    "\n",
    "try:\n",
    "    # Create undetected Chrome driver instance\n",
    "    driver = uc.Chrome()\n",
    "    \n",
    "    # Navigate to the target URL\n",
    "    driver.get(\"https://sportsbook.fanduel.com/live?tab=baseball\")\n",
    "    input()\n",
    "    \n",
    "except Exception as e:\n",
    "    print(f\"An error occurred: {e}\")\n",
    "finally:\n",
    "    if 'driver' in locals():\n",
    "        print(\"Closing the browser.\")\n",
    "        driver.quit()"
   ]
  },
  {
   "cell_type": "code",
   "execution_count": null,
   "metadata": {},
   "outputs": [],
   "source": [
    "import undetected_chromedriver as uc\n",
    "import time\n",
    "\n",
    "try:\n",
    "    # Create undetected Chrome driver instance\n",
    "    driver = uc.Chrome()\n",
    "    \n",
    "    # Navigate to the target URL\n",
    "    driver.get(\"https://sportsbook.fanduel.com/live?tab=baseball\")\n",
    "    input()\n",
    "    \n",
    "except Exception as e:\n",
    "    print(f\"An error occurred: {e}\")\n",
    "finally:\n",
    "    if 'driver' in locals():\n",
    "        print(\"Closing the browser.\")\n",
    "        driver.quit()"
   ]
  },
  {
   "cell_type": "code",
   "execution_count": 16,
   "metadata": {},
   "outputs": [
    {
     "name": "stdout",
     "output_type": "stream",
     "text": [
      "From file:\n",
      "{'Hiroshima Toyo Carp': '-750', 'Chiba Lotte Marines': '+460'}\n",
      "\n",
      "From live WebDriver:\n",
      "{}\n"
     ]
    }
   ],
   "source": [
    "# Simple usage examples\n",
    "\n",
    "print(\"From file:\")\n",
    "file_odds = parse_live_odds('baseball.html')\n",
    "print(file_odds)\n",
    "\n",
    "print(\"\\nFrom live WebDriver:\")\n",
    "if 'driver' in locals() and driver:\n",
    "    live_odds = parse_live_odds(driver=driver)\n",
    "    print(live_odds)\n",
    "else:\n",
    "    print(\"No active driver\")\n"
   ]
  }
 ],
 "metadata": {
  "kernelspec": {
   "display_name": "venv",
   "language": "python",
   "name": "python3"
  },
  "language_info": {
   "codemirror_mode": {
    "name": "ipython",
    "version": 3
   },
   "file_extension": ".py",
   "mimetype": "text/x-python",
   "name": "python",
   "nbconvert_exporter": "python",
   "pygments_lexer": "ipython3",
   "version": "3.10.7"
  }
 },
 "nbformat": 4,
 "nbformat_minor": 2
}
